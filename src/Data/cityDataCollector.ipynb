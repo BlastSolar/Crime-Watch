{
 "cells": [
  {
   "cell_type": "code",
   "execution_count": null,
   "metadata": {},
   "outputs": [],
   "source": [
    "# This notebook shows how information for the city data was collected and processed.\n",
    "# I had to do this because of the fact that the API call took too long to process."
   ]
  },
  {
   "cell_type": "code",
   "execution_count": null,
   "metadata": {},
   "outputs": [],
   "source": [
    "import requests\n",
    "import pandas as pd\n",
    "import configparser\n",
    "from tqdm import tqdm"
   ]
  },
  {
   "cell_type": "code",
   "execution_count": null,
   "metadata": {},
   "outputs": [],
   "source": [
    "configReader = configparser.ConfigParser()\n",
    "\n",
    "# Enter absolute path to Config.ini file here\n",
    "configReader.read(\"/Users/varun/PycharmProjects/Crime Map App/configure.ini\")\n",
    "\n",
    "# Enter absolute path to Census_ids.csv file here\n",
    "ids = pd.read_csv(\"/Users/varun/PycharmProjects/Crime Map App/src/Data/census_ids.csv\")"
   ]
  },
  {
   "cell_type": "code",
   "execution_count": null,
   "metadata": {},
   "outputs": [],
   "source": [
    "key = configReader[\"cityData\"][\"key\"]"
   ]
  },
  {
   "cell_type": "code",
   "execution_count": null,
   "metadata": {},
   "outputs": [],
   "source": [
    "def cityData():\n",
    "    url = \"https://api.opendatanetwork.com/data/v1/values?app_token={key}&describe=true&format=google&variable=crime.fbi_ucr.count&entity_id={i}&year=2016\"\n",
    "\n",
    "    # Only return the id if it is within the state argument given\n",
    "    state_ids = ids\n",
    "\n",
    "    state_city_data = []\n",
    "    for id in tqdm(state_ids[\"census_id\"]):\n",
    "        # Makes a request to each city\n",
    "        result = requests.get(url.format(key=key, i=id), headers={'User-Agent': 'Mozilla/5.0'})\n",
    "        if result.status_code == 200:\n",
    "            # If the status code is 200 (which is good) then the data will be added to the main dictionary\n",
    "            r = result.json()\n",
    "            \n",
    "            state_city_data.append(r[\"description\"])\n",
    "\n",
    "  \n",
    "    return state_city_data"
   ]
  },
  {
   "cell_type": "code",
   "execution_count": null,
   "metadata": {},
   "outputs": [],
   "source": [
    "cityData()"
   ]
  }
 ],
 "metadata": {
  "kernelspec": {
   "display_name": "Python 3",
   "language": "python",
   "name": "python3"
  },
  "language_info": {
   "codemirror_mode": {
    "name": "ipython",
    "version": 3
   },
   "file_extension": ".py",
   "mimetype": "text/x-python",
   "name": "python",
   "nbconvert_exporter": "python",
   "pygments_lexer": "ipython3",
   "version": "3.8.2"
  }
 },
 "nbformat": 4,
 "nbformat_minor": 4
}
